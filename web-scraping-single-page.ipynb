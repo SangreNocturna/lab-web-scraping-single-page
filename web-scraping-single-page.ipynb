{
 "cells": [
  {
   "cell_type": "markdown",
   "metadata": {},
   "source": [
    "## Lab | Single page scraping"
   ]
  },
  {
   "cell_type": "markdown",
   "metadata": {},
   "source": [
    "#### 1. import libraries"
   ]
  },
  {
   "cell_type": "code",
   "execution_count": 70,
   "metadata": {},
   "outputs": [],
   "source": [
    "from bs4 import BeautifulSoup\n",
    "import requests\n",
    "import pandas as pd"
   ]
  },
  {
   "cell_type": "code",
   "execution_count": 71,
   "metadata": {},
   "outputs": [],
   "source": [
    "#chart-position-1 > div.chart-content.col-xs-12.col-sm-8 > p > cite"
   ]
  },
  {
   "cell_type": "markdown",
   "metadata": {},
   "source": [
    "#### 2. url: we start with the 'second' page. Show that you can start whenever you want\n"
   ]
  },
  {
   "cell_type": "code",
   "execution_count": 72,
   "metadata": {},
   "outputs": [],
   "source": [
    "url = \"https://www.popvortex.com/music/charts/top-100-songs.php\""
   ]
  },
  {
   "cell_type": "markdown",
   "metadata": {},
   "source": [
    "#### 3. download html with a get request"
   ]
  },
  {
   "cell_type": "code",
   "execution_count": 73,
   "metadata": {},
   "outputs": [
    {
     "data": {
      "text/plain": [
       "200"
      ]
     },
     "execution_count": 73,
     "metadata": {},
     "output_type": "execute_result"
    }
   ],
   "source": [
    "response = requests.get(url)\n",
    "response.status_code # 200 status code means OK!"
   ]
  },
  {
   "cell_type": "markdown",
   "metadata": {},
   "source": [
    "#### 4.1. parse html (create the 'soup')"
   ]
  },
  {
   "cell_type": "code",
   "execution_count": 74,
   "metadata": {},
   "outputs": [],
   "source": [
    "soup = BeautifulSoup(response.content, \"html.parser\")"
   ]
  },
  {
   "cell_type": "code",
   "execution_count": 75,
   "metadata": {},
   "outputs": [
    {
     "data": {
      "text/plain": [
       "<title>iTunes Top 100 Songs Chart 2022</title>"
      ]
     },
     "execution_count": 75,
     "metadata": {},
     "output_type": "execute_result"
    }
   ],
   "source": [
    "soup.title"
   ]
  },
  {
   "cell_type": "code",
   "execution_count": 76,
   "metadata": {},
   "outputs": [
    {
     "data": {
      "text/plain": [
       "'iTunes Top 100 Songs Chart 2022'"
      ]
     },
     "execution_count": 76,
     "metadata": {},
     "output_type": "execute_result"
    }
   ],
   "source": [
    "soup.title.get_text()"
   ]
  },
  {
   "cell_type": "code",
   "execution_count": 77,
   "metadata": {},
   "outputs": [],
   "source": [
    "# print(soup.get_text())"
   ]
  },
  {
   "cell_type": "code",
   "execution_count": 78,
   "metadata": {},
   "outputs": [
    {
     "data": {
      "text/plain": [
       "<p>Chart of <strong>iTunes top 100 songs</strong> downloaded at the Apple iTunes music store today. The iTunes top 100 songs chart list countdown includes the hottest and most popular music hits and singles from all musical genres including today's hot <a href=\"top-pop-songs.php\">pop</a>, <a href=\"top-rap-songs.php\">rap</a>, <a href=\"top-rock-songs.php\">rock</a>, and <a href=\"top-country-songs.php\">country</a> songs.</p>"
      ]
     },
     "execution_count": 78,
     "metadata": {},
     "output_type": "execute_result"
    }
   ],
   "source": [
    "# First paragraph\n",
    "soup.p"
   ]
  },
  {
   "cell_type": "code",
   "execution_count": 79,
   "metadata": {},
   "outputs": [
    {
     "data": {
      "text/plain": [
       "\"Chart of iTunes top 100 songs downloaded at the Apple iTunes music store today. The iTunes top 100 songs chart list countdown includes the hottest and most popular music hits and singles from all musical genres including today's hot pop, rap, rock, and country songs.\""
      ]
     },
     "execution_count": 79,
     "metadata": {},
     "output_type": "execute_result"
    }
   ],
   "source": [
    "soup.p.get_text()"
   ]
  },
  {
   "cell_type": "code",
   "execution_count": 80,
   "metadata": {},
   "outputs": [],
   "source": [
    "#chart-position-1 > div.chart-content.col-xs-12.col-sm-8 > p > cite"
   ]
  },
  {
   "cell_type": "code",
   "execution_count": 81,
   "metadata": {},
   "outputs": [
    {
     "data": {
      "text/plain": [
       "[<cite class=\"title\">Unholy</cite>]"
      ]
     },
     "execution_count": 81,
     "metadata": {},
     "output_type": "execute_result"
    }
   ],
   "source": [
    "soup.select(\"#chart-position-1 > div.chart-content.col-xs-12.col-sm-8 > p > cite\")"
   ]
  },
  {
   "cell_type": "code",
   "execution_count": 82,
   "metadata": {},
   "outputs": [
    {
     "data": {
      "text/plain": [
       "[<cite class=\"title\">Unholy</cite>,\n",
       " <cite class=\"title\">Everywhere</cite>,\n",
       " <cite class=\"title\">Eagle (feat. KB)</cite>]"
      ]
     },
     "execution_count": 82,
     "metadata": {},
     "output_type": "execute_result"
    }
   ],
   "source": [
    "soup.select(\"cite.title\")[:3]"
   ]
  },
  {
   "cell_type": "code",
   "execution_count": 83,
   "metadata": {},
   "outputs": [],
   "source": [
    "#chart-position-1 > div.chart-content.col-xs-12.col-sm-8 > p > em"
   ]
  },
  {
   "cell_type": "code",
   "execution_count": 84,
   "metadata": {},
   "outputs": [
    {
     "data": {
      "text/plain": [
       "[<em class=\"artist\">Sam Smith &amp; Kim Petras</em>]"
      ]
     },
     "execution_count": 84,
     "metadata": {},
     "output_type": "execute_result"
    }
   ],
   "source": [
    "soup.select(\"#chart-position-1 > div.chart-content.col-xs-12.col-sm-8 > p > em\")"
   ]
  },
  {
   "cell_type": "code",
   "execution_count": 85,
   "metadata": {},
   "outputs": [
    {
     "data": {
      "text/plain": [
       "[<em class=\"artist\">Sam Smith &amp; Kim Petras</em>,\n",
       " <em class=\"artist\">Fleetwood Mac</em>,\n",
       " <em class=\"artist\">Transformation Worship</em>]"
      ]
     },
     "execution_count": 85,
     "metadata": {},
     "output_type": "execute_result"
    }
   ],
   "source": [
    "soup.select(\"em.artist\")[:3]"
   ]
  },
  {
   "cell_type": "markdown",
   "metadata": {},
   "source": [
    "## making beautiful soups into beautiful tables"
   ]
  },
  {
   "cell_type": "code",
   "execution_count": 86,
   "metadata": {},
   "outputs": [],
   "source": [
    "#initialize empty lists\n",
    "title = []\n",
    "artist = []\n",
    "\n",
    "# define the number of iterations of our for loop\n",
    "# by checking how many elements are in the retrieved result set\n",
    "# (this is equivalent but more robust than just explicitly defining 250 iterations)\n",
    "num_iter = len(soup.select(\"cite.title\"))\n",
    "\n",
    "canciones = soup.select(\"cite.title\")\n",
    "artistas = soup.select(\"em.artist\")\n",
    "# spanlist = soup.select(\"td.titleColumn span.secondaryInfo\")\n",
    "# iterate through the result set and retrive all the data\n",
    "for i in range(num_iter):\n",
    "    title.append(canciones[i].get_text())\n",
    "    artist.append(artistas[i].get_text())\n",
    "\n",
    "# print(title)\n",
    "# print(artist)\n",
    "\n"
   ]
  },
  {
   "cell_type": "code",
   "execution_count": 87,
   "metadata": {},
   "outputs": [],
   "source": [
    "artist_song = pd.DataFrame({\"title\":title,\n",
    "                        \"artist\":artist\n",
    "                        })"
   ]
  },
  {
   "cell_type": "code",
   "execution_count": 88,
   "metadata": {},
   "outputs": [
    {
     "data": {
      "text/html": [
       "<div>\n",
       "<style scoped>\n",
       "    .dataframe tbody tr th:only-of-type {\n",
       "        vertical-align: middle;\n",
       "    }\n",
       "\n",
       "    .dataframe tbody tr th {\n",
       "        vertical-align: top;\n",
       "    }\n",
       "\n",
       "    .dataframe thead th {\n",
       "        text-align: right;\n",
       "    }\n",
       "</style>\n",
       "<table border=\"1\" class=\"dataframe\">\n",
       "  <thead>\n",
       "    <tr style=\"text-align: right;\">\n",
       "      <th></th>\n",
       "      <th>title</th>\n",
       "      <th>artist</th>\n",
       "    </tr>\n",
       "  </thead>\n",
       "  <tbody>\n",
       "    <tr>\n",
       "      <th>0</th>\n",
       "      <td>Unholy</td>\n",
       "      <td>Sam Smith &amp; Kim Petras</td>\n",
       "    </tr>\n",
       "    <tr>\n",
       "      <th>1</th>\n",
       "      <td>Everywhere</td>\n",
       "      <td>Fleetwood Mac</td>\n",
       "    </tr>\n",
       "    <tr>\n",
       "      <th>2</th>\n",
       "      <td>Eagle (feat. KB)</td>\n",
       "      <td>Transformation Worship</td>\n",
       "    </tr>\n",
       "    <tr>\n",
       "      <th>3</th>\n",
       "      <td>I'm Good (Blue)</td>\n",
       "      <td>David Guetta &amp; Bebe Rexha</td>\n",
       "    </tr>\n",
       "    <tr>\n",
       "      <th>4</th>\n",
       "      <td>A Thousand Years</td>\n",
       "      <td>Christina Perri</td>\n",
       "    </tr>\n",
       "  </tbody>\n",
       "</table>\n",
       "</div>"
      ],
      "text/plain": [
       "              title                     artist\n",
       "0            Unholy     Sam Smith & Kim Petras\n",
       "1        Everywhere              Fleetwood Mac\n",
       "2  Eagle (feat. KB)     Transformation Worship\n",
       "3   I'm Good (Blue)  David Guetta & Bebe Rexha\n",
       "4  A Thousand Years            Christina Perri"
      ]
     },
     "execution_count": 88,
     "metadata": {},
     "output_type": "execute_result"
    }
   ],
   "source": [
    "artist_song.head()"
   ]
  },
  {
   "cell_type": "markdown",
   "metadata": {},
   "source": [
    "Function for recommendation"
   ]
  },
  {
   "cell_type": "code",
   "execution_count": 89,
   "metadata": {},
   "outputs": [],
   "source": [
    "from random import randint\n",
    "\n",
    "\n",
    "def recomendacion_musical():\n",
    "    input_song = input(\"Introduce the name of a song: \")\n",
    "    for i in artist_song['title']:\n",
    "        if input_song in i:\n",
    "            return(artist_song['title'][randint(1,len(artist_song['title']))])"
   ]
  },
  {
   "cell_type": "code",
   "execution_count": 90,
   "metadata": {},
   "outputs": [
    {
     "data": {
      "text/plain": [
       "'CASE 143'"
      ]
     },
     "execution_count": 90,
     "metadata": {},
     "output_type": "execute_result"
    }
   ],
   "source": [
    "recomendacion_musical()"
   ]
  },
  {
   "cell_type": "markdown",
   "metadata": {
    "id": "cL6G4O2cfC61"
   },
   "source": [
    "## Respectful scraping:"
   ]
  },
  {
   "cell_type": "code",
   "execution_count": 91,
   "metadata": {},
   "outputs": [],
   "source": [
    "from time import sleep\n",
    "from random import randint\n",
    "import numpy as np"
   ]
  },
  {
   "cell_type": "code",
   "execution_count": 92,
   "metadata": {},
   "outputs": [
    {
     "name": "stdout",
     "output_type": "stream",
     "text": [
      "0\n",
      "I will sleep for 1.327 seconds.\n"
     ]
    }
   ],
   "source": [
    "for i in range(5):\n",
    "    print(i)\n",
    "    wait_time = randint(1,4000)\n",
    "    print(\"I will sleep for \" + str(wait_time/1000) + \" seconds.\")\n",
    "    sleep(wait_time/1000)"
   ]
  },
  {
   "cell_type": "markdown",
   "metadata": {
    "id": "qKyaeX4OfC63"
   },
   "source": [
    "## Assembling the script to send and store multiple requests"
   ]
  }
 ],
 "metadata": {
  "kernelspec": {
   "display_name": "Python 3.9.12 ('base')",
   "language": "python",
   "name": "python3"
  },
  "language_info": {
   "codemirror_mode": {
    "name": "ipython",
    "version": 3
   },
   "file_extension": ".py",
   "mimetype": "text/x-python",
   "name": "python",
   "nbconvert_exporter": "python",
   "pygments_lexer": "ipython3",
   "version": "3.9.12"
  },
  "orig_nbformat": 4,
  "vscode": {
   "interpreter": {
    "hash": "6df17fb4df13b71ec05b4aa94d3608f0ccf4cd310a274d15d56bf76c7ef9733e"
   }
  }
 },
 "nbformat": 4,
 "nbformat_minor": 2
}
